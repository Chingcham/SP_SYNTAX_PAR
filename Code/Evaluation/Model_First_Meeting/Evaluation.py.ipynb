{
 "cells": [
  {
   "cell_type": "code",
   "execution_count": 1,
   "metadata": {
    "collapsed": true
   },
   "outputs": [],
   "source": [
    "#print(\"daivame\")\n",
    "import csv\n",
    "import numpy as np"
   ]
  },
  {
   "cell_type": "code",
   "execution_count": 2,
   "metadata": {
    "collapsed": true
   },
   "outputs": [],
   "source": [
    "with open(\"unseenGround.triple\",\"r\") as devGround:\n",
    "    Ground_truths = [line for line in devGround]\n",
    "\n",
    "total = [i for i in range(len(Ground_truths))]   \n",
    "#print(total)"
   ]
  },
  {
   "cell_type": "code",
   "execution_count": 3,
   "metadata": {
    "collapsed": true
   },
   "outputs": [],
   "source": [
    "with open(\"unseenPred.txt\",\"r\") as devPred:\n",
    "    Predictions = [line for line in devPred] "
   ]
  },
  {
   "cell_type": "code",
   "execution_count": 4,
   "metadata": {
    "collapsed": true
   },
   "outputs": [],
   "source": [
    "with open(\"unseenEval.txt\",\"r\") as devEval:\n",
    "    Evaluations = [line.replace('\\n','').split(' ') for line in devEval]"
   ]
  },
  {
   "cell_type": "code",
   "execution_count": 5,
   "metadata": {
    "collapsed": true
   },
   "outputs": [],
   "source": [
    "# List of all seen categories\n",
    "seenCategories = ['Food','University','ComicsCharacter','Airport','Astronaut','Building','City','Monument','SportsTeam','WrittenWork']"
   ]
  },
  {
   "cell_type": "code",
   "execution_count": 6,
   "metadata": {
    "collapsed": true
   },
   "outputs": [],
   "source": [
    "def tripleEvaluation(indices,typeEvaluation):\n",
    "    \n",
    "    #if(typeEvaluation in ['seen','unseen']):\n",
    "    \n",
    "    #print(typeEvaluation.upper())\n",
    "    #print(\"Total :\", len(indices))\n",
    "        \n",
    "    ## matching based on exact match of each line\n",
    "    matches = [i for i in indices if Predictions[i]==Ground_truths[i]]\n",
    "    #print(\"Matches : \",len(matches))    \n",
    "    \n",
    "    ## if there are separaters , split them and then compare the triples\n",
    "    return (len(indices),len(matches))    \n",
    "    \n",
    "\n",
    "    \n",
    "    "
   ]
  },
  {
   "cell_type": "code",
   "execution_count": 7,
   "metadata": {
    "collapsed": true
   },
   "outputs": [],
   "source": [
    "seenTriples = []\n",
    "unseenTriples = []\n",
    "numberTriples = {}\n",
    "categoryTriples = {}\n",
    "\n",
    "for (index,eachEval) in enumerate(Evaluations):\n",
    "    #print(index,eachEval)   \n",
    "    tripleCount = int(eachEval[0])\n",
    "    tripleCategory = eachEval[1]\n",
    "    \n",
    "    if(tripleCategory in seenCategories):\n",
    "        seenTriples.append(index)\n",
    "    else:\n",
    "        unseenTriples.append(index)\n",
    "     \n",
    "\n",
    "    if(tripleCount in numberTriples.keys()):\n",
    "        numberTriples[tripleCount].append(index)\n",
    "    else:\n",
    "        numberTriples[tripleCount] = [index]\n",
    "        \n",
    "    if(tripleCategory in categoryTriples.keys()):\n",
    "        categoryTriples[tripleCategory].append(index)\n",
    "    else:\n",
    "        categoryTriples[tripleCategory] = [index]\n",
    "\n",
    "        \n",
    "\n",
    "totalResults = tripleEvaluation(total,\"total\")\n",
    "seenResults = tripleEvaluation(seenTriples,\"seen\")\n",
    "unseenResults = tripleEvaluation(unseenTriples,\"unseen\")\n",
    "\n",
    "groupedTriples = [(key,categoryTriples[key]) for key in sorted(categoryTriples)]\n",
    "groupedindices = [i for i in groupedTriples]\n",
    "\n",
    "categoryResults = [(\"Category \"+str(c),tripleEvaluation(i,\"category\")) for (c,i) in groupedindices]\n",
    "\n",
    "        \n",
    "countedTriples = [(key,numberTriples[key]) for key in sorted(numberTriples)]\n",
    "groupedindices = [i for i in countedTriples]\n",
    "\n",
    "countResults =  [(\"Triples count \"+str(c),tripleEvaluation(i,\"count\")) for (c,i) in groupedindices]\n",
    "\n",
    "\n",
    "with open('Evaluation_Results.csv', 'w') as csvfile:\n",
    "    fieldnames = [\"Evaluation_Type\",\"Total entries\",\"Matched entries\"]\n",
    "    writer = csv.DictWriter(csvfile, fieldnames=fieldnames)\n",
    "    writer.writeheader()\n",
    "    \n",
    "    writer.writerow({\"Evaluation_Type\" : \"TOTAL\" ,\"Total entries\" : totalResults[0],\"Matched entries\" : totalResults[1]})\n",
    "    writer.writerow({\"Evaluation_Type\" : \"SEEN\" ,\"Total entries\" : seenResults[0],\"Matched entries\" : seenResults[1]})\n",
    "    writer.writerow({\"Evaluation_Type\" : \"UNSEEN\" ,\"Total entries\" : unseenResults[0],\"Matched entries\" : unseenResults[1]})\n",
    "    \n",
    "    #[print(cat[0],cat[1][0],cat[1][1]) for (i,cat) in enumerate(categoryResults)]\n",
    "    [writer.writerow({\"Evaluation_Type\" : cat[0].upper() ,\"Total entries\" : cat[1][0],\"Matched entries\" : cat[1][1]}) for (i,cat) in enumerate(categoryResults)]\n",
    "    [writer.writerow({\"Evaluation_Type\" : cat[0].upper() ,\"Total entries\" : cat[1][0],\"Matched entries\" : cat[1][1]}) for (i,cat) in enumerate(countResults)]\n",
    "\n",
    "    \n",
    "\n",
    "    \n",
    "    \n",
    "    "
   ]
  },
  {
   "cell_type": "code",
   "execution_count": null,
   "metadata": {
    "collapsed": true
   },
   "outputs": [],
   "source": []
  },
  {
   "cell_type": "code",
   "execution_count": null,
   "metadata": {
    "collapsed": true
   },
   "outputs": [],
   "source": []
  }
 ],
 "metadata": {
  "kernelspec": {
   "display_name": "Python 3",
   "language": "python",
   "name": "python3"
  },
  "language_info": {
   "codemirror_mode": {
    "name": "ipython",
    "version": 3
   },
   "file_extension": ".py",
   "mimetype": "text/x-python",
   "name": "python",
   "nbconvert_exporter": "python",
   "pygments_lexer": "ipython3",
   "version": "3.6.2"
  }
 },
 "nbformat": 4,
 "nbformat_minor": 2
}
