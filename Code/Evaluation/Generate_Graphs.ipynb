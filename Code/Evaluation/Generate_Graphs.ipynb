{
 "cells": [
  {
   "cell_type": "code",
   "execution_count": 1,
   "metadata": {
    "collapsed": true
   },
   "outputs": [],
   "source": [
    "#print(\"Daivame\")\n"
   ]
  },
  {
   "cell_type": "code",
   "execution_count": 2,
   "metadata": {
    "collapsed": true
   },
   "outputs": [],
   "source": [
    "import os\n",
    "import re\n",
    "import numpy as np\n",
    "\n",
    "models = ['Model_1','Model_2','Model_3','Model_4']\n",
    "\n",
    "\n",
    "nd_array_dev = np.zeros((4,16)) #Models X Configs\n",
    "nd_array_unseen = np.zeros((4,16)) #Models X Configs\n"
   ]
  },
  {
   "cell_type": "code",
   "execution_count": 3,
   "metadata": {
    "collapsed": true
   },
   "outputs": [],
   "source": [
    "for index_m,model in enumerate(models):\n",
    "    \n",
    "    currentWorkingDir = '/Users/anupamachingacham/Documents/Learning/M2_NLP_Lorraine/DeepLearning/SP-SYNTAX-PAR/Code/Evaluation/'+model\n",
    "    \n",
    "    \n",
    "    try:\n",
    "        \n",
    "        os.chdir(currentWorkingDir)\n",
    "        currentWorkingDir = os.getcwd()\n",
    "        \n",
    "        #print(model)\n",
    "        \n",
    "        listDir = [c for c in os.listdir() if \"config\" in c]              \n",
    "        temp = [int(l.split('config')[1]) for l in listDir]\n",
    "        temp.sort()\n",
    "        listDir = [\"config\"+str(t) for t in temp]\n",
    "        \n",
    "        #print(listDir)\n",
    "        \n",
    "        \n",
    "        for index_c,config in enumerate(listDir):\n",
    "            \n",
    "            #print(config)\n",
    "            \n",
    "            for file in os.listdir(currentWorkingDir+'/'+config):\n",
    "                os.chdir(currentWorkingDir+'/'+config)\n",
    "\n",
    "                if \"Dev_Evaluation_Results.csv\" in file:\n",
    "                    \n",
    "                    with open(file,encoding=\"utf8\") as f:\n",
    "                        measures = f.readlines()\n",
    "               \n",
    "                    f_measure = (measures[1]).split(',')[13]   #f-measure for total\n",
    "                    #dev_dictonary[model][config] = f_measure\n",
    "                    \n",
    "                    nd_array_dev[index_m][index_c] = f_measure\n",
    "\n",
    "    \n",
    "                if \"Unseen_Evaluation_Results.csv\" in file:\n",
    "                    #print(file)\n",
    "                    with open(file,encoding=\"utf8\") as f:\n",
    "                        measures = f.readlines()\n",
    "               \n",
    "                    f_measure = (measures[1]).split(',')[13]   #f-measure for total\n",
    "                    #unseen_dictonary[model][config] = f_measure\n",
    "                    \n",
    "                    nd_array_unseen[index_m][index_c] = f_measure\n",
    "    \n",
    "    except:\n",
    "        \n",
    "        Exception(\"FileNotFoundError\")\n",
    "    "
   ]
  },
  {
   "cell_type": "code",
   "execution_count": 4,
   "metadata": {},
   "outputs": [
    {
     "name": "stdout",
     "output_type": "stream",
     "text": [
      "[[ 0.764  0.822  0.635  0.792]\n",
      " [ 0.767  0.822  0.639  0.792]\n",
      " [ 0.768  0.822  0.638  0.793]\n",
      " [ 0.     0.332  0.079  0.046]\n",
      " [ 0.     0.332  0.077  0.049]\n",
      " [ 0.     0.332  0.077  0.049]\n",
      " [ 0.248  0.421  0.272  0.312]\n",
      " [ 0.038  0.     0.031  0.   ]\n",
      " [ 0.143  0.157  0.089  0.114]\n",
      " [ 0.053  0.042  0.026  0.   ]\n",
      " [ 0.75   0.825  0.639  0.781]\n",
      " [ 0.018  0.     0.075  0.043]\n",
      " [ 0.741  0.816  0.655  0.774]\n",
      " [ 0.015  0.074  0.026  0.007]\n",
      " [ 0.293  0.35   0.108  0.205]\n",
      " [ 0.012  0.     0.093  0.012]]\n"
     ]
    }
   ],
   "source": [
    "print(nd_array_dev.T)"
   ]
  },
  {
   "cell_type": "code",
   "execution_count": 6,
   "metadata": {},
   "outputs": [
    {
     "name": "stdout",
     "output_type": "stream",
     "text": [
      "[[ 0.004  0.018  0.061  0.056]\n",
      " [ 0.004  0.018  0.061  0.056]\n",
      " [ 0.004  0.018  0.061  0.056]\n",
      " [ 0.     0.     0.001  0.002]\n",
      " [ 0.     0.     0.002  0.002]\n",
      " [ 0.     0.     0.002  0.002]\n",
      " [ 0.001  0.     0.022  0.014]\n",
      " [ 0.     0.     0.003  0.   ]\n",
      " [ 0.     0.     0.004  0.003]\n",
      " [ 0.     0.     0.     0.   ]\n",
      " [ 0.008  0.018  0.064  0.051]\n",
      " [ 0.     0.     0.002  0.003]\n",
      " [ 0.006  0.017  0.068  0.058]\n",
      " [ 0.     0.     0.     0.   ]\n",
      " [ 0.001  0.001  0.012  0.01 ]\n",
      " [ 0.     0.     0.002  0.   ]]\n"
     ]
    }
   ],
   "source": [
    "print(nd_array_unseen.T)"
   ]
  },
  {
   "cell_type": "code",
   "execution_count": null,
   "metadata": {
    "collapsed": true
   },
   "outputs": [],
   "source": []
  }
 ],
 "metadata": {
  "kernelspec": {
   "display_name": "Python 3",
   "language": "python",
   "name": "python3"
  },
  "language_info": {
   "codemirror_mode": {
    "name": "ipython",
    "version": 3
   },
   "file_extension": ".py",
   "mimetype": "text/x-python",
   "name": "python",
   "nbconvert_exporter": "python",
   "pygments_lexer": "ipython3",
   "version": "3.6.2"
  }
 },
 "nbformat": 4,
 "nbformat_minor": 2
}
